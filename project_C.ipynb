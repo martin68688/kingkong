{
 "cells": [
  {
   "cell_type": "markdown",
   "metadata": {
    "id": "LEqEAKdmqupP"
   },
   "source": [
    "### **Import Libraries**"
   ]
  },
  {
   "cell_type": "code",
   "execution_count": null,
   "metadata": {},
   "outputs": [],
   "source": [
    "pip install keras\n"
   ]
  },
  {
   "cell_type": "code",
   "execution_count": null,
   "metadata": {},
   "outputs": [],
   "source": [
    "pip install tensorflow"
   ]
  },
  {
   "cell_type": "code",
   "execution_count": null,
   "metadata": {
    "id": "672vwAxYpHXs"
   },
   "outputs": [],
   "source": [
    "\n",
    "import numpy as np\n",
    "from keras.models import Sequential\n",
    "from keras.layers import Dense\n",
    "import pandas as pd\n",
    "import matplotlib.pyplot as plt\n",
    "from keras.models import Sequential\n",
    "from keras.layers import Dense\n",
    "from tensorflow.keras import regularizers"
   ]
  },
  {
   "cell_type": "code",
   "execution_count": null,
   "metadata": {
    "id": "N3FsH6-jpcxf"
   },
   "outputs": [],
   "source": [
    "df= pd.read_csv('/content/xjtlu-mcm-2024-problem-c-data.csv')"
   ]
  },
  {
   "cell_type": "code",
   "execution_count": null,
   "metadata": {
    "colab": {
     "base_uri": "https://localhost:8080/",
     "height": 206
    },
    "id": "DpDj7BfvqMkd",
    "outputId": "76fb8aed-d8d8-4396-9b93-752c7e66f611"
   },
   "outputs": [],
   "source": [
    "# 注意要把时间改成numerical data否则无法拟合\n",
    "df.head()"
   ]
  },
  {
   "cell_type": "code",
   "execution_count": null,
   "metadata": {
    "colab": {
     "base_uri": "https://localhost:8080/"
    },
    "id": "8l1AAs1TqTYV",
    "outputId": "3ee30ebd-be79-473d-f165-b219dce2c079"
   },
   "outputs": [],
   "source": [
    "df.shape"
   ]
  },
  {
   "cell_type": "code",
   "execution_count": 128,
   "metadata": {
    "colab": {
     "base_uri": "https://localhost:8080/"
    },
    "id": "R5K5fFrHq-6k",
    "outputId": "f8933ba0-a8df-4460-ee78-d9092b0da418"
   },
   "outputs": [
    {
     "data": {
      "text/plain": [
       "Date                            0\n",
       "Exchange Rate of JPY to USD    55\n",
       "Exchange Rate of GBP to USD    55\n",
       "dtype: int64"
      ]
     },
     "execution_count": 128,
     "metadata": {},
     "output_type": "execute_result"
    }
   ],
   "source": [
    "#count number of null(empty) values\n",
    "df.isna().sum()"
   ]
  },
  {
   "cell_type": "code",
   "execution_count": 129,
   "metadata": {
    "id": "RZcRmUwWrFdQ"
   },
   "outputs": [],
   "source": [
    "# Drop the column with null values\n",
    "df.dropna(inplace=True)"
   ]
  },
  {
   "cell_type": "code",
   "execution_count": 130,
   "metadata": {
    "colab": {
     "base_uri": "https://localhost:8080/"
    },
    "id": "ag1uOniPsV_Q",
    "outputId": "9c737843-b04f-47ee-db0e-d39922beabaf"
   },
   "outputs": [
    {
     "data": {
      "text/plain": [
       "(1253, 3)"
      ]
     },
     "execution_count": 130,
     "metadata": {},
     "output_type": "execute_result"
    }
   ],
   "source": [
    "# count of rows and columns\n",
    "df.shape"
   ]
  },
  {
   "cell_type": "code",
   "execution_count": 131,
   "metadata": {
    "colab": {
     "base_uri": "https://localhost:8080/"
    },
    "id": "9DWEvEVPsavF",
    "outputId": "bfb825fc-1105-49cf-ca9f-1e2c2921281a"
   },
   "outputs": [
    {
     "data": {
      "text/plain": [
       "Date                           0\n",
       "Exchange Rate of JPY to USD    0\n",
       "Exchange Rate of GBP to USD    0\n",
       "dtype: int64"
      ]
     },
     "execution_count": 131,
     "metadata": {},
     "output_type": "execute_result"
    }
   ],
   "source": [
    "#count number of null(empty) values\n",
    "df.isna().sum()"
   ]
  },
  {
   "cell_type": "code",
   "execution_count": 132,
   "metadata": {
    "colab": {
     "base_uri": "https://localhost:8080/",
     "height": 423
    },
    "id": "5EfZaE-PsoHw",
    "outputId": "d25bb30f-c95a-4c52-ea40-7033a2e2a9d9"
   },
   "outputs": [
    {
     "data": {
      "text/html": [
       "\n",
       "  <div id=\"df-52dce2fd-845d-4818-ae01-7ef174baaae9\" class=\"colab-df-container\">\n",
       "    <div>\n",
       "<style scoped>\n",
       "    .dataframe tbody tr th:only-of-type {\n",
       "        vertical-align: middle;\n",
       "    }\n",
       "\n",
       "    .dataframe tbody tr th {\n",
       "        vertical-align: top;\n",
       "    }\n",
       "\n",
       "    .dataframe thead th {\n",
       "        text-align: right;\n",
       "    }\n",
       "</style>\n",
       "<table border=\"1\" class=\"dataframe\">\n",
       "  <thead>\n",
       "    <tr style=\"text-align: right;\">\n",
       "      <th></th>\n",
       "      <th>Date</th>\n",
       "      <th>Exchange Rate of JPY to USD</th>\n",
       "      <th>Exchange Rate of GBP to USD</th>\n",
       "    </tr>\n",
       "  </thead>\n",
       "  <tbody>\n",
       "    <tr>\n",
       "      <th>1</th>\n",
       "      <td>20140102</td>\n",
       "      <td>104.84</td>\n",
       "      <td>0.6082</td>\n",
       "    </tr>\n",
       "    <tr>\n",
       "      <th>2</th>\n",
       "      <td>20140103</td>\n",
       "      <td>104.46</td>\n",
       "      <td>0.6089</td>\n",
       "    </tr>\n",
       "    <tr>\n",
       "      <th>3</th>\n",
       "      <td>20140106</td>\n",
       "      <td>104.38</td>\n",
       "      <td>0.6093</td>\n",
       "    </tr>\n",
       "    <tr>\n",
       "      <th>4</th>\n",
       "      <td>20140107</td>\n",
       "      <td>104.54</td>\n",
       "      <td>0.6090</td>\n",
       "    </tr>\n",
       "    <tr>\n",
       "      <th>5</th>\n",
       "      <td>20140108</td>\n",
       "      <td>104.87</td>\n",
       "      <td>0.6075</td>\n",
       "    </tr>\n",
       "    <tr>\n",
       "      <th>...</th>\n",
       "      <td>...</td>\n",
       "      <td>...</td>\n",
       "      <td>...</td>\n",
       "    </tr>\n",
       "    <tr>\n",
       "      <th>1302</th>\n",
       "      <td>20181228</td>\n",
       "      <td>110.34</td>\n",
       "      <td>0.7875</td>\n",
       "    </tr>\n",
       "    <tr>\n",
       "      <th>1303</th>\n",
       "      <td>20181231</td>\n",
       "      <td>109.70</td>\n",
       "      <td>0.7835</td>\n",
       "    </tr>\n",
       "    <tr>\n",
       "      <th>1305</th>\n",
       "      <td>20190102</td>\n",
       "      <td>109.22</td>\n",
       "      <td>0.7938</td>\n",
       "    </tr>\n",
       "    <tr>\n",
       "      <th>1306</th>\n",
       "      <td>20190103</td>\n",
       "      <td>108.07</td>\n",
       "      <td>0.7916</td>\n",
       "    </tr>\n",
       "    <tr>\n",
       "      <th>1307</th>\n",
       "      <td>20190104</td>\n",
       "      <td>108.29</td>\n",
       "      <td>0.7849</td>\n",
       "    </tr>\n",
       "  </tbody>\n",
       "</table>\n",
       "<p>1253 rows × 3 columns</p>\n",
       "</div>\n",
       "    <div class=\"colab-df-buttons\">\n",
       "\n",
       "  <div class=\"colab-df-container\">\n",
       "    <button class=\"colab-df-convert\" onclick=\"convertToInteractive('df-52dce2fd-845d-4818-ae01-7ef174baaae9')\"\n",
       "            title=\"Convert this dataframe to an interactive table.\"\n",
       "            style=\"display:none;\">\n",
       "\n",
       "  <svg xmlns=\"http://www.w3.org/2000/svg\" height=\"24px\" viewBox=\"0 -960 960 960\">\n",
       "    <path d=\"M120-120v-720h720v720H120Zm60-500h600v-160H180v160Zm220 220h160v-160H400v160Zm0 220h160v-160H400v160ZM180-400h160v-160H180v160Zm440 0h160v-160H620v160ZM180-180h160v-160H180v160Zm440 0h160v-160H620v160Z\"/>\n",
       "  </svg>\n",
       "    </button>\n",
       "\n",
       "  <style>\n",
       "    .colab-df-container {\n",
       "      display:flex;\n",
       "      gap: 12px;\n",
       "    }\n",
       "\n",
       "    .colab-df-convert {\n",
       "      background-color: #E8F0FE;\n",
       "      border: none;\n",
       "      border-radius: 50%;\n",
       "      cursor: pointer;\n",
       "      display: none;\n",
       "      fill: #1967D2;\n",
       "      height: 32px;\n",
       "      padding: 0 0 0 0;\n",
       "      width: 32px;\n",
       "    }\n",
       "\n",
       "    .colab-df-convert:hover {\n",
       "      background-color: #E2EBFA;\n",
       "      box-shadow: 0px 1px 2px rgba(60, 64, 67, 0.3), 0px 1px 3px 1px rgba(60, 64, 67, 0.15);\n",
       "      fill: #174EA6;\n",
       "    }\n",
       "\n",
       "    .colab-df-buttons div {\n",
       "      margin-bottom: 4px;\n",
       "    }\n",
       "\n",
       "    [theme=dark] .colab-df-convert {\n",
       "      background-color: #3B4455;\n",
       "      fill: #D2E3FC;\n",
       "    }\n",
       "\n",
       "    [theme=dark] .colab-df-convert:hover {\n",
       "      background-color: #434B5C;\n",
       "      box-shadow: 0px 1px 3px 1px rgba(0, 0, 0, 0.15);\n",
       "      filter: drop-shadow(0px 1px 2px rgba(0, 0, 0, 0.3));\n",
       "      fill: #FFFFFF;\n",
       "    }\n",
       "  </style>\n",
       "\n",
       "    <script>\n",
       "      const buttonEl =\n",
       "        document.querySelector('#df-52dce2fd-845d-4818-ae01-7ef174baaae9 button.colab-df-convert');\n",
       "      buttonEl.style.display =\n",
       "        google.colab.kernel.accessAllowed ? 'block' : 'none';\n",
       "\n",
       "      async function convertToInteractive(key) {\n",
       "        const element = document.querySelector('#df-52dce2fd-845d-4818-ae01-7ef174baaae9');\n",
       "        const dataTable =\n",
       "          await google.colab.kernel.invokeFunction('convertToInteractive',\n",
       "                                                    [key], {});\n",
       "        if (!dataTable) return;\n",
       "\n",
       "        const docLinkHtml = 'Like what you see? Visit the ' +\n",
       "          '<a target=\"_blank\" href=https://colab.research.google.com/notebooks/data_table.ipynb>data table notebook</a>'\n",
       "          + ' to learn more about interactive tables.';\n",
       "        element.innerHTML = '';\n",
       "        dataTable['output_type'] = 'display_data';\n",
       "        await google.colab.output.renderOutput(dataTable, element);\n",
       "        const docLink = document.createElement('div');\n",
       "        docLink.innerHTML = docLinkHtml;\n",
       "        element.appendChild(docLink);\n",
       "      }\n",
       "    </script>\n",
       "  </div>\n",
       "\n",
       "\n",
       "<div id=\"df-dfc4fddf-29af-4ca4-b808-44f7a81810be\">\n",
       "  <button class=\"colab-df-quickchart\" onclick=\"quickchart('df-dfc4fddf-29af-4ca4-b808-44f7a81810be')\"\n",
       "            title=\"Suggest charts\"\n",
       "            style=\"display:none;\">\n",
       "\n",
       "<svg xmlns=\"http://www.w3.org/2000/svg\" height=\"24px\"viewBox=\"0 0 24 24\"\n",
       "     width=\"24px\">\n",
       "    <g>\n",
       "        <path d=\"M19 3H5c-1.1 0-2 .9-2 2v14c0 1.1.9 2 2 2h14c1.1 0 2-.9 2-2V5c0-1.1-.9-2-2-2zM9 17H7v-7h2v7zm4 0h-2V7h2v10zm4 0h-2v-4h2v4z\"/>\n",
       "    </g>\n",
       "</svg>\n",
       "  </button>\n",
       "\n",
       "<style>\n",
       "  .colab-df-quickchart {\n",
       "      --bg-color: #E8F0FE;\n",
       "      --fill-color: #1967D2;\n",
       "      --hover-bg-color: #E2EBFA;\n",
       "      --hover-fill-color: #174EA6;\n",
       "      --disabled-fill-color: #AAA;\n",
       "      --disabled-bg-color: #DDD;\n",
       "  }\n",
       "\n",
       "  [theme=dark] .colab-df-quickchart {\n",
       "      --bg-color: #3B4455;\n",
       "      --fill-color: #D2E3FC;\n",
       "      --hover-bg-color: #434B5C;\n",
       "      --hover-fill-color: #FFFFFF;\n",
       "      --disabled-bg-color: #3B4455;\n",
       "      --disabled-fill-color: #666;\n",
       "  }\n",
       "\n",
       "  .colab-df-quickchart {\n",
       "    background-color: var(--bg-color);\n",
       "    border: none;\n",
       "    border-radius: 50%;\n",
       "    cursor: pointer;\n",
       "    display: none;\n",
       "    fill: var(--fill-color);\n",
       "    height: 32px;\n",
       "    padding: 0;\n",
       "    width: 32px;\n",
       "  }\n",
       "\n",
       "  .colab-df-quickchart:hover {\n",
       "    background-color: var(--hover-bg-color);\n",
       "    box-shadow: 0 1px 2px rgba(60, 64, 67, 0.3), 0 1px 3px 1px rgba(60, 64, 67, 0.15);\n",
       "    fill: var(--button-hover-fill-color);\n",
       "  }\n",
       "\n",
       "  .colab-df-quickchart-complete:disabled,\n",
       "  .colab-df-quickchart-complete:disabled:hover {\n",
       "    background-color: var(--disabled-bg-color);\n",
       "    fill: var(--disabled-fill-color);\n",
       "    box-shadow: none;\n",
       "  }\n",
       "\n",
       "  .colab-df-spinner {\n",
       "    border: 2px solid var(--fill-color);\n",
       "    border-color: transparent;\n",
       "    border-bottom-color: var(--fill-color);\n",
       "    animation:\n",
       "      spin 1s steps(1) infinite;\n",
       "  }\n",
       "\n",
       "  @keyframes spin {\n",
       "    0% {\n",
       "      border-color: transparent;\n",
       "      border-bottom-color: var(--fill-color);\n",
       "      border-left-color: var(--fill-color);\n",
       "    }\n",
       "    20% {\n",
       "      border-color: transparent;\n",
       "      border-left-color: var(--fill-color);\n",
       "      border-top-color: var(--fill-color);\n",
       "    }\n",
       "    30% {\n",
       "      border-color: transparent;\n",
       "      border-left-color: var(--fill-color);\n",
       "      border-top-color: var(--fill-color);\n",
       "      border-right-color: var(--fill-color);\n",
       "    }\n",
       "    40% {\n",
       "      border-color: transparent;\n",
       "      border-right-color: var(--fill-color);\n",
       "      border-top-color: var(--fill-color);\n",
       "    }\n",
       "    60% {\n",
       "      border-color: transparent;\n",
       "      border-right-color: var(--fill-color);\n",
       "    }\n",
       "    80% {\n",
       "      border-color: transparent;\n",
       "      border-right-color: var(--fill-color);\n",
       "      border-bottom-color: var(--fill-color);\n",
       "    }\n",
       "    90% {\n",
       "      border-color: transparent;\n",
       "      border-bottom-color: var(--fill-color);\n",
       "    }\n",
       "  }\n",
       "</style>\n",
       "\n",
       "  <script>\n",
       "    async function quickchart(key) {\n",
       "      const quickchartButtonEl =\n",
       "        document.querySelector('#' + key + ' button');\n",
       "      quickchartButtonEl.disabled = true;  // To prevent multiple clicks.\n",
       "      quickchartButtonEl.classList.add('colab-df-spinner');\n",
       "      try {\n",
       "        const charts = await google.colab.kernel.invokeFunction(\n",
       "            'suggestCharts', [key], {});\n",
       "      } catch (error) {\n",
       "        console.error('Error during call to suggestCharts:', error);\n",
       "      }\n",
       "      quickchartButtonEl.classList.remove('colab-df-spinner');\n",
       "      quickchartButtonEl.classList.add('colab-df-quickchart-complete');\n",
       "    }\n",
       "    (() => {\n",
       "      let quickchartButtonEl =\n",
       "        document.querySelector('#df-dfc4fddf-29af-4ca4-b808-44f7a81810be button');\n",
       "      quickchartButtonEl.style.display =\n",
       "        google.colab.kernel.accessAllowed ? 'block' : 'none';\n",
       "    })();\n",
       "  </script>\n",
       "</div>\n",
       "    </div>\n",
       "  </div>\n"
      ],
      "text/plain": [
       "          Date  Exchange Rate of JPY to USD  Exchange Rate of GBP to USD\n",
       "1     20140102                       104.84                       0.6082\n",
       "2     20140103                       104.46                       0.6089\n",
       "3     20140106                       104.38                       0.6093\n",
       "4     20140107                       104.54                       0.6090\n",
       "5     20140108                       104.87                       0.6075\n",
       "...        ...                          ...                          ...\n",
       "1302  20181228                       110.34                       0.7875\n",
       "1303  20181231                       109.70                       0.7835\n",
       "1305  20190102                       109.22                       0.7938\n",
       "1306  20190103                       108.07                       0.7916\n",
       "1307  20190104                       108.29                       0.7849\n",
       "\n",
       "[1253 rows x 3 columns]"
      ]
     },
     "execution_count": 132,
     "metadata": {},
     "output_type": "execute_result"
    }
   ],
   "source": [
    "df"
   ]
  },
  {
   "cell_type": "code",
   "execution_count": 133,
   "metadata": {
    "colab": {
     "base_uri": "https://localhost:8080/",
     "height": 448
    },
    "id": "DznG8osHs4iV",
    "outputId": "128729b9-7ad6-4bd8-acfa-0cbcf261ff74"
   },
   "outputs": [
    {
     "data": {
      "image/png": "[encoded data removed]",
      "text/plain": [
       "<Figure size 640x480 with 1 Axes>"
      ]
     },
     "metadata": {},
     "output_type": "display_data"
    }
   ],
   "source": [
    "# plot the data\n",
    "\n",
    "x=df['Date']\n",
    "y_JPY=df['Exchange Rate of JPY to USD']\n",
    "y_GBP=df['Exchange Rate of GBP to USD']\n",
    "plt.plot(x,y_JPY)\n",
    "plt.plot(x,y_GBP)\n",
    "plt.show()"
   ]
  },
  {
   "cell_type": "markdown",
   "metadata": {
    "id": "fCZCJphou3rS"
   },
   "source": [
    "### Split Dataset & Feature Scaling"
   ]
  },
  {
   "cell_type": "code",
   "execution_count": 134,
   "metadata": {
    "id": "hwjw2Af7uWL7"
   },
   "outputs": [],
   "source": [
    "#Splitting the dataset into independent and dependent datasets\n",
    "X=df.iloc[:,0].values #date\n",
    "Y_JPY=df.iloc[:,1].values #JPY\n",
    "Y_GBP=df.iloc[:,2].values #GBP"
   ]
  },
  {
   "cell_type": "code",
   "execution_count": 135,
   "metadata": {
    "id": "RkzbkoyWwBS-"
   },
   "outputs": [],
   "source": [
    "#Splitting datasets into training(75%) and testing(25%)\n",
    "X_train=df.iloc[0:939,0]\n",
    "Y_JPYtrain=df.iloc[0:939,1]\n",
    "Y_GBPtrain=df.iloc[0:939,2]\n",
    "X_test=df.iloc[940:1252,0]\n",
    "Y_JPYtest=df.iloc[940:1252,1]\n",
    "Y_GBPtest=df.iloc[940:1252,2]"
   ]
  },
  {
   "cell_type": "code",
   "execution_count": null,
   "metadata": {
    "id": "1T14kv4HwEDC"
   },
   "outputs": [],
   "source": [
    "# no need for feature scaling\n"
   ]
  },
  {
   "cell_type": "code",
   "execution_count": 145,
   "metadata": {
    "id": "0KgMEddpxugk"
   },
   "outputs": [],
   "source": [
    "# 创建模型\n",
    "inputs = X_train\n",
    "targets_JPY = Y_JPYtrain\n",
    "targets_GBP = Y_GBPtrain"
   ]
  },
  {
   "cell_type": "code",
   "execution_count": 137,
   "metadata": {
    "id": "g2k4Cl28z3Qy"
   },
   "outputs": [],
   "source": [
    "model_JPY = Sequential()\n",
    "model_JPY.add(Dense(10, activation='relu',kernel_regularizer=regularizers.l2(0.1)))#添加L2正则化，防止过拟合\n",
    "model_JPY.add(Dense(10, activation='relu',kernel_regularizer=regularizers.l2(0.1)))\n",
    "model_JPY.add(Dense(1, activation='linear'))"
   ]
  },
  {
   "cell_type": "code",
   "execution_count": 138,
   "metadata": {
    "id": "NfOE8KpE0aLY"
   },
   "outputs": [],
   "source": [
    "# compile the first model\n",
    "model_JPY.compile(loss='mean_squared_error', optimizer='adam')"
   ]
  },
  {
   "cell_type": "code",
   "execution_count": 139,
   "metadata": {
    "colab": {
     "base_uri": "https://localhost:8080/"
    },
    "id": "OXE93nc80s0Q",
    "outputId": "d033468d-8488-4e4e-afa0-a253e260fa79"
   },
   "outputs": [
    {
     "name": "stdout",
     "output_type": "stream",
     "text": [
      "Epoch 1/100\n",
      "30/30 [==============================] - 1s 2ms/step - loss: 1655352066048.0000\n",
      "Epoch 2/100\n",
      "30/30 [==============================] - 0s 2ms/step - loss: 18921793536.0000\n",
      "Epoch 3/100\n",
      "30/30 [==============================] - 0s 2ms/step - loss: 1978933760.0000\n",
      "Epoch 4/100\n",
      "30/30 [==============================] - 0s 2ms/step - loss: 113139384.0000\n",
      "Epoch 5/100\n",
      "30/30 [==============================] - 0s 2ms/step - loss: 5076589.5000\n",
      "Epoch 6/100\n",
      "30/30 [==============================] - 0s 2ms/step - loss: 199951.5469\n",
      "Epoch 7/100\n",
      "30/30 [==============================] - 0s 2ms/step - loss: 6313.6104\n",
      "Epoch 8/100\n",
      "30/30 [==============================] - 0s 2ms/step - loss: 252.9692\n",
      "Epoch 9/100\n",
      "30/30 [==============================] - 0s 3ms/step - loss: 68.1783\n",
      "Epoch 10/100\n",
      "30/30 [==============================] - 0s 3ms/step - loss: 55.7168\n",
      "Epoch 11/100\n",
      "30/30 [==============================] - 0s 3ms/step - loss: 55.2169\n",
      "Epoch 12/100\n",
      "30/30 [==============================] - 0s 2ms/step - loss: 39479.1836\n",
      "Epoch 13/100\n",
      "30/30 [==============================] - 0s 3ms/step - loss: 3925.2534\n",
      "Epoch 14/100\n",
      "30/30 [==============================] - 0s 2ms/step - loss: 134.3438\n",
      "Epoch 15/100\n",
      "30/30 [==============================] - 0s 2ms/step - loss: 58.8073\n",
      "Epoch 16/100\n",
      "30/30 [==============================] - 0s 2ms/step - loss: 55.1095\n",
      "Epoch 17/100\n",
      "30/30 [==============================] - 0s 2ms/step - loss: 54.9617\n",
      "Epoch 18/100\n",
      "30/30 [==============================] - 0s 2ms/step - loss: 54.9433\n",
      "Epoch 19/100\n",
      "30/30 [==============================] - 0s 2ms/step - loss: 55.1517\n",
      "Epoch 20/100\n",
      "30/30 [==============================] - 0s 2ms/step - loss: 54.9844\n",
      "Epoch 21/100\n",
      "30/30 [==============================] - 0s 3ms/step - loss: 55.1221\n",
      "Epoch 22/100\n",
      "30/30 [==============================] - 0s 2ms/step - loss: 55.0243\n",
      "Epoch 23/100\n",
      "30/30 [==============================] - 0s 2ms/step - loss: 54.9982\n",
      "Epoch 24/100\n",
      "30/30 [==============================] - 0s 2ms/step - loss: 55.0872\n",
      "Epoch 25/100\n",
      "30/30 [==============================] - 0s 3ms/step - loss: 55.0718\n",
      "Epoch 26/100\n",
      "30/30 [==============================] - 0s 2ms/step - loss: 54.9755\n",
      "Epoch 27/100\n",
      "30/30 [==============================] - 0s 2ms/step - loss: 55.0315\n",
      "Epoch 28/100\n",
      "30/30 [==============================] - 0s 2ms/step - loss: 55.0178\n",
      "Epoch 29/100\n",
      "30/30 [==============================] - 0s 2ms/step - loss: 55.0356\n",
      "Epoch 30/100\n",
      "30/30 [==============================] - 0s 2ms/step - loss: 55.2028\n",
      "Epoch 31/100\n",
      "30/30 [==============================] - 0s 2ms/step - loss: 55.1688\n",
      "Epoch 32/100\n",
      "30/30 [==============================] - 0s 2ms/step - loss: 55.3166\n",
      "Epoch 33/100\n",
      "30/30 [==============================] - 0s 2ms/step - loss: 55.0410\n",
      "Epoch 34/100\n",
      "30/30 [==============================] - 0s 2ms/step - loss: 54.9868\n",
      "Epoch 35/100\n",
      "30/30 [==============================] - 0s 2ms/step - loss: 55.1934\n",
      "Epoch 36/100\n",
      "30/30 [==============================] - 0s 2ms/step - loss: 55.0381\n",
      "Epoch 37/100\n",
      "30/30 [==============================] - 0s 2ms/step - loss: 55.2275\n",
      "Epoch 38/100\n",
      "30/30 [==============================] - 0s 2ms/step - loss: 55.1524\n",
      "Epoch 39/100\n",
      "30/30 [==============================] - 0s 3ms/step - loss: 54.8983\n",
      "Epoch 40/100\n",
      "30/30 [==============================] - 0s 2ms/step - loss: 55.1228\n",
      "Epoch 41/100\n",
      "30/30 [==============================] - 0s 2ms/step - loss: 54.8131\n",
      "Epoch 42/100\n",
      "30/30 [==============================] - 0s 2ms/step - loss: 54.9856\n",
      "Epoch 43/100\n",
      "30/30 [==============================] - 0s 2ms/step - loss: 55.3012\n",
      "Epoch 44/100\n",
      "30/30 [==============================] - 0s 2ms/step - loss: 54.9632\n",
      "Epoch 45/100\n",
      "30/30 [==============================] - 0s 4ms/step - loss: 55.1389\n",
      "Epoch 46/100\n",
      "30/30 [==============================] - 0s 3ms/step - loss: 55.2558\n",
      "Epoch 47/100\n",
      "30/30 [==============================] - 0s 4ms/step - loss: 55.3316\n",
      "Epoch 48/100\n",
      "30/30 [==============================] - 0s 4ms/step - loss: 55.0274\n",
      "Epoch 49/100\n",
      "30/30 [==============================] - 0s 4ms/step - loss: 54.9552\n",
      "Epoch 50/100\n",
      "30/30 [==============================] - 0s 4ms/step - loss: 55.3898\n",
      "Epoch 51/100\n",
      "30/30 [==============================] - 0s 3ms/step - loss: 55.1276\n",
      "Epoch 52/100\n",
      "30/30 [==============================] - 0s 3ms/step - loss: 55.3063\n",
      "Epoch 53/100\n",
      "30/30 [==============================] - 0s 3ms/step - loss: 55.1647\n",
      "Epoch 54/100\n",
      "30/30 [==============================] - 0s 3ms/step - loss: 55.1253\n",
      "Epoch 55/100\n",
      "30/30 [==============================] - 0s 3ms/step - loss: 55.6000\n",
      "Epoch 56/100\n",
      "30/30 [==============================] - 0s 4ms/step - loss: 56.2937\n",
      "Epoch 57/100\n",
      "30/30 [==============================] - 0s 3ms/step - loss: 55.0070\n",
      "Epoch 58/100\n",
      "30/30 [==============================] - 0s 3ms/step - loss: 483.3864\n",
      "Epoch 59/100\n",
      "30/30 [==============================] - 0s 3ms/step - loss: 547.1952\n",
      "Epoch 60/100\n",
      "30/30 [==============================] - 0s 4ms/step - loss: 68.9678\n",
      "Epoch 61/100\n",
      "30/30 [==============================] - 0s 3ms/step - loss: 55.6658\n",
      "Epoch 62/100\n",
      "30/30 [==============================] - 0s 3ms/step - loss: 55.0054\n",
      "Epoch 63/100\n",
      "30/30 [==============================] - 0s 3ms/step - loss: 55.0382\n",
      "Epoch 64/100\n",
      "30/30 [==============================] - 0s 3ms/step - loss: 55.1922\n",
      "Epoch 65/100\n",
      "30/30 [==============================] - 0s 3ms/step - loss: 56.4015\n",
      "Epoch 66/100\n",
      "30/30 [==============================] - 0s 4ms/step - loss: 56.0437\n",
      "Epoch 67/100\n",
      "30/30 [==============================] - 0s 4ms/step - loss: 55.0082\n",
      "Epoch 68/100\n",
      "30/30 [==============================] - 0s 4ms/step - loss: 54.7783\n",
      "Epoch 69/100\n",
      "30/30 [==============================] - 0s 4ms/step - loss: 54.9601\n",
      "Epoch 70/100\n",
      "30/30 [==============================] - 0s 3ms/step - loss: 54.9843\n",
      "Epoch 71/100\n",
      "30/30 [==============================] - 0s 4ms/step - loss: 54.7901\n",
      "Epoch 72/100\n",
      "30/30 [==============================] - 0s 4ms/step - loss: 55.1787\n",
      "Epoch 73/100\n",
      "30/30 [==============================] - 0s 3ms/step - loss: 55.0273\n",
      "Epoch 74/100\n",
      "30/30 [==============================] - 0s 3ms/step - loss: 55.4237\n",
      "Epoch 75/100\n",
      "30/30 [==============================] - 0s 3ms/step - loss: 55.0777\n",
      "Epoch 76/100\n",
      "30/30 [==============================] - 0s 3ms/step - loss: 55.1725\n",
      "Epoch 77/100\n",
      "30/30 [==============================] - 0s 3ms/step - loss: 55.4976\n",
      "Epoch 78/100\n",
      "30/30 [==============================] - 0s 5ms/step - loss: 55.0539\n",
      "Epoch 79/100\n",
      "30/30 [==============================] - 0s 4ms/step - loss: 55.3168\n",
      "Epoch 80/100\n",
      "30/30 [==============================] - 0s 4ms/step - loss: 56.3283\n",
      "Epoch 81/100\n",
      "30/30 [==============================] - 0s 3ms/step - loss: 55.2063\n",
      "Epoch 82/100\n",
      "30/30 [==============================] - 0s 3ms/step - loss: 55.2897\n",
      "Epoch 83/100\n",
      "30/30 [==============================] - 0s 4ms/step - loss: 55.3307\n",
      "Epoch 84/100\n",
      "30/30 [==============================] - 0s 4ms/step - loss: 55.3062\n",
      "Epoch 85/100\n",
      "30/30 [==============================] - 0s 3ms/step - loss: 54.8924\n",
      "Epoch 86/100\n",
      "30/30 [==============================] - 0s 3ms/step - loss: 55.0744\n",
      "Epoch 87/100\n",
      "30/30 [==============================] - 0s 4ms/step - loss: 55.8435\n",
      "Epoch 88/100\n",
      "30/30 [==============================] - 0s 4ms/step - loss: 56.0676\n",
      "Epoch 89/100\n",
      "30/30 [==============================] - 0s 4ms/step - loss: 54.9594\n",
      "Epoch 90/100\n",
      "30/30 [==============================] - 0s 4ms/step - loss: 56.2856\n",
      "Epoch 91/100\n",
      "30/30 [==============================] - 0s 4ms/step - loss: 55.3058\n",
      "Epoch 92/100\n",
      "30/30 [==============================] - 0s 4ms/step - loss: 55.9980\n",
      "Epoch 93/100\n",
      "30/30 [==============================] - 0s 4ms/step - loss: 55.8766\n",
      "Epoch 94/100\n",
      "30/30 [==============================] - 0s 4ms/step - loss: 56.1735\n",
      "Epoch 95/100\n",
      "30/30 [==============================] - 0s 3ms/step - loss: 55.2333\n",
      "Epoch 96/100\n",
      "30/30 [==============================] - 0s 2ms/step - loss: 55.6640\n",
      "Epoch 97/100\n",
      "30/30 [==============================] - 0s 3ms/step - loss: 55.4509\n",
      "Epoch 98/100\n",
      "30/30 [==============================] - 0s 2ms/step - loss: 55.6136\n",
      "Epoch 99/100\n",
      "30/30 [==============================] - 0s 3ms/step - loss: 55.1331\n",
      "Epoch 100/100\n",
      "30/30 [==============================] - 0s 2ms/step - loss: 55.4660\n"
     ]
    },
    {
     "data": {
      "text/plain": [
       "<keras.src.callbacks.History at 0x7bc4b44eedd0>"
      ]
     },
     "execution_count": 139,
     "metadata": {},
     "output_type": "execute_result"
    }
   ],
   "source": [
    "# train the JPY model\n",
    "model_JPY.fit(inputs, targets, epochs=100, batch_size=32)"
   ]
  },
  {
   "cell_type": "code",
   "execution_count": 140,
   "metadata": {
    "colab": {
     "base_uri": "https://localhost:8080/"
    },
    "id": "OIFi9eYJ08RD",
    "outputId": "4f141fa6-4977-4f9c-b704-b109c9cea542"
   },
   "outputs": [
    {
     "name": "stdout",
     "output_type": "stream",
     "text": [
      "10/10 [==============================] - 0s 2ms/step\n"
     ]
    }
   ],
   "source": [
    "y_pred_JPY = model_JPY.predict(X_test)"
   ]
  },
  {
   "cell_type": "code",
   "execution_count": 141,
   "metadata": {
    "colab": {
     "base_uri": "https://localhost:8080/"
    },
    "id": "guPAqKwc4qKT",
    "outputId": "c891a776-2ba1-417b-baa3-ac72517b0b40"
   },
   "outputs": [
    {
     "name": "stdout",
     "output_type": "stream",
     "text": [
      "MSE: 5.757\n",
      "RMSE: 2.399\n",
      "MAE: 1.887\n",
      "R-squared: -0.070\n"
     ]
    }
   ],
   "source": [
    "import numpy as np\n",
    "from sklearn.linear_model import LinearRegression\n",
    "from sklearn.metrics import mean_squared_error, mean_absolute_error, r2_score\n",
    "\n",
    "mse = mean_squared_error(Y_JPYtest, y_pred)\n",
    "rmse = np.sqrt(mse)\n",
    "mae = mean_absolute_error(Y_JPYtest, y_pred)\n",
    "r2 = r2_score(Y_JPYtest, y_pred)\n",
    "\n",
    "\n",
    "print(f\"MSE: {mse:.3f}\")\n",
    "print(f\"RMSE: {rmse:.3f}\")\n",
    "print(f\"MAE: {mae:.3f}\")\n",
    "print(f\"R-squared: {r2:.3f}\")"
   ]
  },
  {
   "cell_type": "markdown",
   "metadata": {
    "id": "TYsmewstC-Z5"
   },
   "source": [
    "通过调整正则化系数到0.1让评估数据从MSE: 6.103\n",
    "RMSE: 2.470\n",
    "MAE: 1.906\n",
    "R-squared: -0.134\n",
    "提升到\n",
    "MSE: 5.757\n",
    "RMSE: 2.399\n",
    "MAE: 1.887\n",
    "R-squared: -0.070"
   ]
  },
  {
   "cell_type": "code",
   "execution_count": 142,
   "metadata": {
    "id": "VVfh3qgfAF4V"
   },
   "outputs": [],
   "source": [
    "model_GBP = Sequential()\n",
    "model_GBP.add(Dense(10, activation='relu',kernel_regularizer=regularizers.l2(0.1)))#添加L2正则化，防止过拟合\n",
    "model_GBP.add(Dense(10, activation='relu',kernel_regularizer=regularizers.l2(0.1)))\n",
    "model_GBP.add(Dense(1, activation='linear'))"
   ]
  },
  {
   "cell_type": "code",
   "execution_count": 143,
   "metadata": {
    "id": "fKVJPwZpDnWw"
   },
   "outputs": [],
   "source": [
    "# compile the second model\n",
    "model_GBP.compile(loss='mean_squared_error', optimizer='adam')"
   ]
  },
  {
   "cell_type": "code",
   "execution_count": 146,
   "metadata": {
    "colab": {
     "base_uri": "https://localhost:8080/"
    },
    "id": "1NvkuKhBDyBj",
    "outputId": "bca81d2c-ab7b-4f3c-d9c1-1cdac6e617e9"
   },
   "outputs": [
    {
     "name": "stdout",
     "output_type": "stream",
     "text": [
      "Epoch 1/100\n",
      "30/30 [==============================] - 1s 2ms/step - loss: 12619194826752.0000\n",
      "Epoch 2/100\n",
      "30/30 [==============================] - 0s 3ms/step - loss: 3920474931200.0000\n",
      "Epoch 3/100\n",
      "30/30 [==============================] - 0s 2ms/step - loss: 1300742012928.0000\n",
      "Epoch 4/100\n",
      "30/30 [==============================] - 0s 2ms/step - loss: 437310455808.0000\n",
      "Epoch 5/100\n",
      "30/30 [==============================] - 0s 2ms/step - loss: 117973966848.0000\n",
      "Epoch 6/100\n",
      "30/30 [==============================] - 0s 2ms/step - loss: 23535276032.0000\n",
      "Epoch 7/100\n",
      "30/30 [==============================] - 0s 2ms/step - loss: 3223911424.0000\n",
      "Epoch 8/100\n",
      "30/30 [==============================] - 0s 2ms/step - loss: 284216672.0000\n",
      "Epoch 9/100\n",
      "30/30 [==============================] - 0s 2ms/step - loss: 14339392.0000\n",
      "Epoch 10/100\n",
      "30/30 [==============================] - 0s 2ms/step - loss: 286188.3438\n",
      "Epoch 11/100\n",
      "30/30 [==============================] - 0s 2ms/step - loss: 1011.4601\n",
      "Epoch 12/100\n",
      "30/30 [==============================] - 0s 3ms/step - loss: 651.7992\n",
      "Epoch 13/100\n",
      "30/30 [==============================] - 0s 2ms/step - loss: 35.2083\n",
      "Epoch 14/100\n",
      "30/30 [==============================] - 0s 2ms/step - loss: 6.5375\n",
      "Epoch 15/100\n",
      "30/30 [==============================] - 0s 2ms/step - loss: 5.3804\n",
      "Epoch 16/100\n",
      "30/30 [==============================] - 0s 2ms/step - loss: 5.3560\n",
      "Epoch 17/100\n",
      "30/30 [==============================] - 0s 2ms/step - loss: 5.3550\n",
      "Epoch 18/100\n",
      "30/30 [==============================] - 0s 2ms/step - loss: 5.3399\n",
      "Epoch 19/100\n",
      "30/30 [==============================] - 0s 2ms/step - loss: 5.3394\n",
      "Epoch 20/100\n",
      "30/30 [==============================] - 0s 2ms/step - loss: 5.2996\n",
      "Epoch 21/100\n",
      "30/30 [==============================] - 0s 2ms/step - loss: 4.9518\n",
      "Epoch 22/100\n",
      "30/30 [==============================] - 0s 2ms/step - loss: 4.6770\n",
      "Epoch 23/100\n",
      "30/30 [==============================] - 0s 2ms/step - loss: 4.4334\n",
      "Epoch 24/100\n",
      "30/30 [==============================] - 0s 2ms/step - loss: 4.1613\n",
      "Epoch 25/100\n",
      "30/30 [==============================] - 0s 2ms/step - loss: 3.9789\n",
      "Epoch 26/100\n",
      "30/30 [==============================] - 0s 3ms/step - loss: 3.7577\n",
      "Epoch 27/100\n",
      "30/30 [==============================] - 0s 3ms/step - loss: 3.5770\n",
      "Epoch 28/100\n",
      "30/30 [==============================] - 0s 2ms/step - loss: 3.3893\n",
      "Epoch 29/100\n",
      "30/30 [==============================] - 0s 2ms/step - loss: 3.2558\n",
      "Epoch 30/100\n",
      "30/30 [==============================] - 0s 2ms/step - loss: 3.0824\n",
      "Epoch 31/100\n",
      "30/30 [==============================] - 0s 2ms/step - loss: 2.9713\n",
      "Epoch 32/100\n",
      "30/30 [==============================] - 0s 2ms/step - loss: 2.8400\n",
      "Epoch 33/100\n",
      "30/30 [==============================] - 0s 2ms/step - loss: 2.7202\n",
      "Epoch 34/100\n",
      "30/30 [==============================] - 0s 2ms/step - loss: 2.6110\n",
      "Epoch 35/100\n",
      "30/30 [==============================] - 0s 2ms/step - loss: 2.5106\n",
      "Epoch 36/100\n",
      "30/30 [==============================] - 0s 2ms/step - loss: 2.4051\n",
      "Epoch 37/100\n",
      "30/30 [==============================] - 0s 2ms/step - loss: 2.3152\n",
      "Epoch 38/100\n",
      "30/30 [==============================] - 0s 2ms/step - loss: 2.2529\n",
      "Epoch 39/100\n",
      "30/30 [==============================] - 0s 2ms/step - loss: 2.1396\n",
      "Epoch 40/100\n",
      "30/30 [==============================] - 0s 2ms/step - loss: 2.0717\n",
      "Epoch 41/100\n",
      "30/30 [==============================] - 0s 3ms/step - loss: 2.0012\n",
      "Epoch 42/100\n",
      "30/30 [==============================] - 0s 2ms/step - loss: 1.9278\n",
      "Epoch 43/100\n",
      "30/30 [==============================] - 0s 2ms/step - loss: 1.8658\n",
      "Epoch 44/100\n",
      "30/30 [==============================] - 0s 2ms/step - loss: 1.7857\n",
      "Epoch 45/100\n",
      "30/30 [==============================] - 0s 2ms/step - loss: 1.7567\n",
      "Epoch 46/100\n",
      "30/30 [==============================] - 0s 2ms/step - loss: 1.6827\n",
      "Epoch 47/100\n",
      "30/30 [==============================] - 0s 2ms/step - loss: 1.6436\n",
      "Epoch 48/100\n",
      "30/30 [==============================] - 0s 2ms/step - loss: 32.9819\n",
      "Epoch 49/100\n",
      "30/30 [==============================] - 0s 2ms/step - loss: 0.3526\n",
      "Epoch 50/100\n",
      "30/30 [==============================] - 0s 2ms/step - loss: 0.3522\n",
      "Epoch 51/100\n",
      "30/30 [==============================] - 0s 2ms/step - loss: 0.3526\n",
      "Epoch 52/100\n",
      "30/30 [==============================] - 0s 2ms/step - loss: 0.3527\n",
      "Epoch 53/100\n",
      "30/30 [==============================] - 0s 2ms/step - loss: 0.3523\n",
      "Epoch 54/100\n",
      "30/30 [==============================] - 0s 2ms/step - loss: 0.3527\n",
      "Epoch 55/100\n",
      "30/30 [==============================] - 0s 3ms/step - loss: 0.3524\n",
      "Epoch 56/100\n",
      "30/30 [==============================] - 0s 3ms/step - loss: 0.3521\n",
      "Epoch 57/100\n",
      "30/30 [==============================] - 0s 3ms/step - loss: 0.3522\n",
      "Epoch 58/100\n",
      "30/30 [==============================] - 0s 3ms/step - loss: 0.3521\n",
      "Epoch 59/100\n",
      "30/30 [==============================] - 0s 2ms/step - loss: 0.3522\n",
      "Epoch 60/100\n",
      "30/30 [==============================] - 0s 2ms/step - loss: 0.3525\n",
      "Epoch 61/100\n",
      "30/30 [==============================] - 0s 2ms/step - loss: 0.3527\n",
      "Epoch 62/100\n",
      "30/30 [==============================] - 0s 2ms/step - loss: 0.3526\n",
      "Epoch 63/100\n",
      "30/30 [==============================] - 0s 2ms/step - loss: 0.3525\n",
      "Epoch 64/100\n",
      "30/30 [==============================] - 0s 2ms/step - loss: 0.3526\n",
      "Epoch 65/100\n",
      "30/30 [==============================] - 0s 3ms/step - loss: 0.3524\n",
      "Epoch 66/100\n",
      "30/30 [==============================] - 0s 3ms/step - loss: 0.3522\n",
      "Epoch 67/100\n",
      "30/30 [==============================] - 0s 3ms/step - loss: 0.3524\n",
      "Epoch 68/100\n",
      "30/30 [==============================] - 0s 2ms/step - loss: 0.3524\n",
      "Epoch 69/100\n",
      "30/30 [==============================] - 0s 2ms/step - loss: 0.3524\n",
      "Epoch 70/100\n",
      "30/30 [==============================] - 0s 2ms/step - loss: 0.3527\n",
      "Epoch 71/100\n",
      "30/30 [==============================] - 0s 2ms/step - loss: 0.3523\n",
      "Epoch 72/100\n",
      "30/30 [==============================] - 0s 3ms/step - loss: 0.3529\n",
      "Epoch 73/100\n",
      "30/30 [==============================] - 0s 2ms/step - loss: 0.3528\n",
      "Epoch 74/100\n",
      "30/30 [==============================] - 0s 2ms/step - loss: 0.3525\n",
      "Epoch 75/100\n",
      "30/30 [==============================] - 0s 3ms/step - loss: 0.3522\n",
      "Epoch 76/100\n",
      "30/30 [==============================] - 0s 2ms/step - loss: 0.3528\n",
      "Epoch 77/100\n",
      "30/30 [==============================] - 0s 3ms/step - loss: 0.3525\n",
      "Epoch 78/100\n",
      "30/30 [==============================] - 0s 2ms/step - loss: 0.3525\n",
      "Epoch 79/100\n",
      "30/30 [==============================] - 0s 2ms/step - loss: 0.3524\n",
      "Epoch 80/100\n",
      "30/30 [==============================] - 0s 2ms/step - loss: 0.3526\n",
      "Epoch 81/100\n",
      "30/30 [==============================] - 0s 2ms/step - loss: 0.3527\n",
      "Epoch 82/100\n",
      "30/30 [==============================] - 0s 3ms/step - loss: 0.3523\n",
      "Epoch 83/100\n",
      "30/30 [==============================] - 0s 2ms/step - loss: 0.3530\n",
      "Epoch 84/100\n",
      "30/30 [==============================] - 0s 2ms/step - loss: 0.3522\n",
      "Epoch 85/100\n",
      "30/30 [==============================] - 0s 2ms/step - loss: 0.3522\n",
      "Epoch 86/100\n",
      "30/30 [==============================] - 0s 2ms/step - loss: 0.3525\n",
      "Epoch 87/100\n",
      "30/30 [==============================] - 0s 2ms/step - loss: 0.3525\n",
      "Epoch 88/100\n",
      "30/30 [==============================] - 0s 2ms/step - loss: 0.3525\n",
      "Epoch 89/100\n",
      "30/30 [==============================] - 0s 2ms/step - loss: 0.3519\n",
      "Epoch 90/100\n",
      "30/30 [==============================] - 0s 3ms/step - loss: 0.3519\n",
      "Epoch 91/100\n",
      "30/30 [==============================] - 0s 2ms/step - loss: 0.3524\n",
      "Epoch 92/100\n",
      "30/30 [==============================] - 0s 2ms/step - loss: 0.3525\n",
      "Epoch 93/100\n",
      "30/30 [==============================] - 0s 2ms/step - loss: 0.3527\n",
      "Epoch 94/100\n",
      "30/30 [==============================] - 0s 3ms/step - loss: 0.3522\n",
      "Epoch 95/100\n",
      "30/30 [==============================] - 0s 2ms/step - loss: 0.3523\n",
      "Epoch 96/100\n",
      "30/30 [==============================] - 0s 3ms/step - loss: 0.3526\n",
      "Epoch 97/100\n",
      "30/30 [==============================] - 0s 2ms/step - loss: 0.3526\n",
      "Epoch 98/100\n",
      "30/30 [==============================] - 0s 2ms/step - loss: 0.3526\n",
      "Epoch 99/100\n",
      "30/30 [==============================] - 0s 2ms/step - loss: 0.3524\n",
      "Epoch 100/100\n",
      "30/30 [==============================] - 0s 2ms/step - loss: 0.3525\n"
     ]
    },
    {
     "data": {
      "text/plain": [
       "<keras.src.callbacks.History at 0x7bc4b17e81c0>"
      ]
     },
     "execution_count": 146,
     "metadata": {},
     "output_type": "execute_result"
    }
   ],
   "source": [
    "# train the JPY model\n",
    "model_GBP.fit(inputs, targets_GBP, epochs=100, batch_size=32)"
   ]
  },
  {
   "cell_type": "code",
   "execution_count": 147,
   "metadata": {
    "colab": {
     "base_uri": "https://localhost:8080/"
    },
    "id": "4Bi2CQfUEA6A",
    "outputId": "0925f3d6-0708-47fd-dff1-1322c101c951"
   },
   "outputs": [
    {
     "name": "stdout",
     "output_type": "stream",
     "text": [
      "10/10 [==============================] - 0s 2ms/step\n"
     ]
    }
   ],
   "source": [
    "y_pred_GBP = model_GBP.predict(X_test)"
   ]
  },
  {
   "cell_type": "code",
   "execution_count": 148,
   "metadata": {
    "colab": {
     "base_uri": "https://localhost:8080/"
    },
    "id": "c2nNznwuEVO9",
    "outputId": "83055b8b-ecfc-4b61-db2f-e7a8a52c72ab"
   },
   "outputs": [
    {
     "name": "stdout",
     "output_type": "stream",
     "text": [
      "MSE: 0.012\n",
      "RMSE: 0.109\n",
      "MAE: 0.090\n",
      "R-squared: -18.573\n"
     ]
    }
   ],
   "source": [
    "mse = mean_squared_error(Y_GBPtest, y_pred_GBP)\n",
    "rmse = np.sqrt(mse)\n",
    "mae = mean_absolute_error(Y_GBPtest, y_pred_GBP)\n",
    "r2 = r2_score(Y_GBPtest, y_pred_GBP)\n",
    "\n",
    "\n",
    "print(f\"MSE: {mse:.3f}\")\n",
    "print(f\"RMSE: {rmse:.3f}\")\n",
    "print(f\"MAE: {mae:.3f}\")\n",
    "print(f\"R-squared: {r2:.3f}\")"
   ]
  },
  {
   "cell_type": "code",
   "execution_count": null,
   "metadata": {
    "id": "pOq1cFW8EhQd"
   },
   "outputs": [],
   "source": []
  }
 ],
 "metadata": {
  "colab": {
   "provenance": []
  },
  "kernelspec": {
   "display_name": "Python 3 (ipykernel)",
   "language": "python",
   "name": "python3"
  },
  "language_info": {
   "codemirror_mode": {
    "name": "ipython",
    "version": 3
   },
   "file_extension": ".py",
   "mimetype": "text/x-python",
   "name": "python",
   "nbconvert_exporter": "python",
   "pygments_lexer": "ipython3",
   "version": "3.10.9"
  }
 },
 "nbformat": 4,
 "nbformat_minor": 4
}
